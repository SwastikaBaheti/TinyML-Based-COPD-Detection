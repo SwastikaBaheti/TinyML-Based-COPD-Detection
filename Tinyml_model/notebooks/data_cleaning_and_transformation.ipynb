{
 "cells": [
  {
   "cell_type": "markdown",
   "id": "9e8abee9",
   "metadata": {},
   "source": [
    "## Data Cleaning and Feature Engineering"
   ]
  },
  {
   "cell_type": "code",
   "execution_count": 2,
   "id": "2356e111",
   "metadata": {},
   "outputs": [],
   "source": [
    "# Importing the libraries\n",
    "import numpy as np\n",
    "import pandas as pd\n",
    "from sklearn.model_selection import train_test_split\n",
    "from sklearn.preprocessing import StandardScaler, LabelEncoder\n",
    "from sklearn.compose import ColumnTransformer"
   ]
  },
  {
   "cell_type": "code",
   "execution_count": 3,
   "id": "08afbc6d",
   "metadata": {},
   "outputs": [
    {
     "data": {
      "text/html": [
       "<div>\n",
       "<style scoped>\n",
       "    .dataframe tbody tr th:only-of-type {\n",
       "        vertical-align: middle;\n",
       "    }\n",
       "\n",
       "    .dataframe tbody tr th {\n",
       "        vertical-align: top;\n",
       "    }\n",
       "\n",
       "    .dataframe thead th {\n",
       "        text-align: right;\n",
       "    }\n",
       "</style>\n",
       "<table border=\"1\" class=\"dataframe\">\n",
       "  <thead>\n",
       "    <tr style=\"text-align: right;\">\n",
       "      <th></th>\n",
       "      <th>co_level</th>\n",
       "      <th>alcohol_level</th>\n",
       "      <th>voc_level</th>\n",
       "      <th>spo2</th>\n",
       "      <th>heart_rate</th>\n",
       "      <th>pm25_level</th>\n",
       "      <th>temperature</th>\n",
       "      <th>label</th>\n",
       "    </tr>\n",
       "  </thead>\n",
       "  <tbody>\n",
       "    <tr>\n",
       "      <th>0</th>\n",
       "      <td>130.122292</td>\n",
       "      <td>51.181510</td>\n",
       "      <td>119.667149</td>\n",
       "      <td>97.290211</td>\n",
       "      <td>75.378475</td>\n",
       "      <td>9.017210</td>\n",
       "      <td>36.330482</td>\n",
       "      <td>Healthy</td>\n",
       "    </tr>\n",
       "    <tr>\n",
       "      <th>1</th>\n",
       "      <td>306.918592</td>\n",
       "      <td>112.967456</td>\n",
       "      <td>252.810187</td>\n",
       "      <td>86.365809</td>\n",
       "      <td>94.352309</td>\n",
       "      <td>58.049402</td>\n",
       "      <td>37.260475</td>\n",
       "      <td>COPD</td>\n",
       "    </tr>\n",
       "    <tr>\n",
       "      <th>2</th>\n",
       "      <td>279.490251</td>\n",
       "      <td>119.974531</td>\n",
       "      <td>308.133251</td>\n",
       "      <td>89.587870</td>\n",
       "      <td>76.215453</td>\n",
       "      <td>40.378840</td>\n",
       "      <td>37.150093</td>\n",
       "      <td>COPD</td>\n",
       "    </tr>\n",
       "  </tbody>\n",
       "</table>\n",
       "</div>"
      ],
      "text/plain": [
       "     co_level  alcohol_level   voc_level       spo2  heart_rate  pm25_level  \\\n",
       "0  130.122292      51.181510  119.667149  97.290211   75.378475    9.017210   \n",
       "1  306.918592     112.967456  252.810187  86.365809   94.352309   58.049402   \n",
       "2  279.490251     119.974531  308.133251  89.587870   76.215453   40.378840   \n",
       "\n",
       "   temperature    label  \n",
       "0    36.330482  Healthy  \n",
       "1    37.260475     COPD  \n",
       "2    37.150093     COPD  "
      ]
     },
     "execution_count": 3,
     "metadata": {},
     "output_type": "execute_result"
    }
   ],
   "source": [
    "# Reading the dataset\n",
    "df = pd.read_csv('../copd_iot_dataset.csv')\n",
    "df.head(3)"
   ]
  },
  {
   "cell_type": "code",
   "execution_count": 4,
   "id": "d86fb6b2",
   "metadata": {},
   "outputs": [
    {
     "name": "stdout",
     "output_type": "stream",
     "text": [
      "<class 'pandas.core.frame.DataFrame'>\n",
      "RangeIndex: 3000 entries, 0 to 2999\n",
      "Data columns (total 8 columns):\n",
      " #   Column         Non-Null Count  Dtype  \n",
      "---  ------         --------------  -----  \n",
      " 0   co_level       3000 non-null   float64\n",
      " 1   alcohol_level  3000 non-null   float64\n",
      " 2   voc_level      3000 non-null   float64\n",
      " 3   spo2           3000 non-null   float64\n",
      " 4   heart_rate     3000 non-null   float64\n",
      " 5   pm25_level     3000 non-null   float64\n",
      " 6   temperature    3000 non-null   float64\n",
      " 7   label          3000 non-null   object \n",
      "dtypes: float64(7), object(1)\n",
      "memory usage: 187.6+ KB\n"
     ]
    }
   ],
   "source": [
    "df.info()"
   ]
  },
  {
   "cell_type": "code",
   "execution_count": 5,
   "id": "715be2a3",
   "metadata": {},
   "outputs": [
    {
     "data": {
      "text/plain": [
       "co_level         0\n",
       "alcohol_level    0\n",
       "voc_level        0\n",
       "spo2             0\n",
       "heart_rate       0\n",
       "pm25_level       0\n",
       "temperature      0\n",
       "label            0\n",
       "dtype: int64"
      ]
     },
     "execution_count": 5,
     "metadata": {},
     "output_type": "execute_result"
    }
   ],
   "source": [
    "# Checking for NaN values\n",
    "df.isna().sum()"
   ]
  },
  {
   "cell_type": "code",
   "execution_count": 6,
   "id": "d5e2d406",
   "metadata": {},
   "outputs": [
    {
     "data": {
      "text/plain": [
       "np.int64(0)"
      ]
     },
     "execution_count": 6,
     "metadata": {},
     "output_type": "execute_result"
    }
   ],
   "source": [
    "# Checking for duplicates\n",
    "df.duplicated().sum()"
   ]
  },
  {
   "cell_type": "markdown",
   "id": "08a66a3f",
   "metadata": {},
   "source": [
    "##### Feature Engineering"
   ]
  },
  {
   "cell_type": "code",
   "execution_count": 7,
   "id": "d76ea8f7",
   "metadata": {},
   "outputs": [],
   "source": [
    "# Converting categorical column 'label' into numerical value\n",
    "label_encoder = LabelEncoder()\n",
    "df['label_encoded'] = label_encoder.fit_transform(df['label'])"
   ]
  },
  {
   "cell_type": "code",
   "execution_count": 8,
   "id": "4f63f637",
   "metadata": {},
   "outputs": [
    {
     "data": {
      "text/html": [
       "<div>\n",
       "<style scoped>\n",
       "    .dataframe tbody tr th:only-of-type {\n",
       "        vertical-align: middle;\n",
       "    }\n",
       "\n",
       "    .dataframe tbody tr th {\n",
       "        vertical-align: top;\n",
       "    }\n",
       "\n",
       "    .dataframe thead th {\n",
       "        text-align: right;\n",
       "    }\n",
       "</style>\n",
       "<table border=\"1\" class=\"dataframe\">\n",
       "  <thead>\n",
       "    <tr style=\"text-align: right;\">\n",
       "      <th></th>\n",
       "      <th>co_level</th>\n",
       "      <th>alcohol_level</th>\n",
       "      <th>voc_level</th>\n",
       "      <th>spo2</th>\n",
       "      <th>heart_rate</th>\n",
       "      <th>pm25_level</th>\n",
       "      <th>temperature</th>\n",
       "      <th>label</th>\n",
       "      <th>label_encoded</th>\n",
       "    </tr>\n",
       "  </thead>\n",
       "  <tbody>\n",
       "    <tr>\n",
       "      <th>0</th>\n",
       "      <td>130.122292</td>\n",
       "      <td>51.181510</td>\n",
       "      <td>119.667149</td>\n",
       "      <td>97.290211</td>\n",
       "      <td>75.378475</td>\n",
       "      <td>9.017210</td>\n",
       "      <td>36.330482</td>\n",
       "      <td>Healthy</td>\n",
       "      <td>2</td>\n",
       "    </tr>\n",
       "    <tr>\n",
       "      <th>1</th>\n",
       "      <td>306.918592</td>\n",
       "      <td>112.967456</td>\n",
       "      <td>252.810187</td>\n",
       "      <td>86.365809</td>\n",
       "      <td>94.352309</td>\n",
       "      <td>58.049402</td>\n",
       "      <td>37.260475</td>\n",
       "      <td>COPD</td>\n",
       "      <td>1</td>\n",
       "    </tr>\n",
       "    <tr>\n",
       "      <th>2</th>\n",
       "      <td>279.490251</td>\n",
       "      <td>119.974531</td>\n",
       "      <td>308.133251</td>\n",
       "      <td>89.587870</td>\n",
       "      <td>76.215453</td>\n",
       "      <td>40.378840</td>\n",
       "      <td>37.150093</td>\n",
       "      <td>COPD</td>\n",
       "      <td>1</td>\n",
       "    </tr>\n",
       "  </tbody>\n",
       "</table>\n",
       "</div>"
      ],
      "text/plain": [
       "     co_level  alcohol_level   voc_level       spo2  heart_rate  pm25_level  \\\n",
       "0  130.122292      51.181510  119.667149  97.290211   75.378475    9.017210   \n",
       "1  306.918592     112.967456  252.810187  86.365809   94.352309   58.049402   \n",
       "2  279.490251     119.974531  308.133251  89.587870   76.215453   40.378840   \n",
       "\n",
       "   temperature    label  label_encoded  \n",
       "0    36.330482  Healthy              2  \n",
       "1    37.260475     COPD              1  \n",
       "2    37.150093     COPD              1  "
      ]
     },
     "execution_count": 8,
     "metadata": {},
     "output_type": "execute_result"
    }
   ],
   "source": [
    "df.head(3)"
   ]
  },
  {
   "cell_type": "markdown",
   "id": "d09eec63",
   "metadata": {},
   "source": [
    "#### Train test split"
   ]
  },
  {
   "cell_type": "code",
   "execution_count": 9,
   "id": "6bdcc06e",
   "metadata": {},
   "outputs": [],
   "source": [
    "# Segregating the independent and dependent features\n",
    "X = df.drop(columns=['label', 'label_encoded'], axis=1)\n",
    "y = df['label_encoded']"
   ]
  },
  {
   "cell_type": "code",
   "execution_count": 10,
   "id": "cce327c1",
   "metadata": {},
   "outputs": [],
   "source": [
    "X_train, X_test, y_train, y_test = train_test_split(X, y, test_size=0.2)"
   ]
  },
  {
   "cell_type": "markdown",
   "id": "87c5bb5a",
   "metadata": {},
   "source": [
    "#### Data Transformation"
   ]
  },
  {
   "cell_type": "code",
   "execution_count": 11,
   "id": "84769a57",
   "metadata": {},
   "outputs": [],
   "source": [
    "# Column Transformer for standard scaling\n",
    "preprocessor = ColumnTransformer([\n",
    "    ('StandardScaling', StandardScaler(), X.columns)\n",
    "])\n",
    "\n",
    "X_train_preprocessed = preprocessor.fit_transform(X_train)\n",
    "X_test_preprocessed = preprocessor.transform(X_test)"
   ]
  },
  {
   "cell_type": "code",
   "execution_count": 12,
   "id": "c693ea25",
   "metadata": {},
   "outputs": [
    {
     "data": {
      "text/plain": [
       "array([[ 1.36223643,  1.32831472,  1.19135229, ...,  1.55729794,\n",
       "         1.15006536, -0.63210787],\n",
       "       [-1.41534409, -2.14251855, -1.10296361, ..., -0.59080161,\n",
       "        -0.70970894, -0.96838431],\n",
       "       [-1.12292792, -1.1517965 , -1.2578256 , ..., -1.024481  ,\n",
       "        -1.38773398, -0.57035106],\n",
       "       ...,\n",
       "       [-1.23846579, -1.07164746, -1.0483516 , ..., -1.30648515,\n",
       "        -0.58563671, -1.11354776],\n",
       "       [-0.36710896, -0.14389095,  0.13639469, ..., -0.32565435,\n",
       "         0.22328598,  0.36725564],\n",
       "       [-1.22375815, -1.3945001 , -1.33886771, ...,  0.526731  ,\n",
       "        -1.23682718, -0.63508429]])"
      ]
     },
     "execution_count": 12,
     "metadata": {},
     "output_type": "execute_result"
    }
   ],
   "source": [
    "X_train_preprocessed"
   ]
  },
  {
   "cell_type": "code",
   "execution_count": 13,
   "id": "39b701cb",
   "metadata": {},
   "outputs": [
    {
     "data": {
      "text/plain": [
       "array([[-0.1440443 ,  1.18071358, -0.29470645, ...,  0.14613873,\n",
       "         0.4591848 , -1.37430887],\n",
       "       [ 0.06055071,  0.28192707,  0.15403621, ...,  1.93558752,\n",
       "         0.25122887, -0.52307966],\n",
       "       [ 0.84858965, -0.05956638,  0.85642716, ...,  1.93928655,\n",
       "         0.92643917, -0.03691726],\n",
       "       ...,\n",
       "       [-1.11377673, -1.26419655, -1.60294793, ..., -0.81437678,\n",
       "        -0.90579855, -0.71343279],\n",
       "       [-0.4054009 ,  0.08147954,  0.50920089, ...,  0.37632433,\n",
       "        -0.29903748, -0.01969392],\n",
       "       [ 1.12326752,  2.06523333,  1.52260245, ..., -0.10088129,\n",
       "        -0.18101116,  0.08204125]])"
      ]
     },
     "execution_count": 13,
     "metadata": {},
     "output_type": "execute_result"
    }
   ],
   "source": [
    "X_test_preprocessed"
   ]
  },
  {
   "cell_type": "markdown",
   "id": "7a152185",
   "metadata": {},
   "source": [
    "#### Saving the preprocessor object and the train test datasets"
   ]
  },
  {
   "cell_type": "code",
   "execution_count": 14,
   "id": "145666bc",
   "metadata": {},
   "outputs": [],
   "source": [
    "# Saving the preprocessor object\n",
    "import pickle\n",
    "with open('../copd_models/preprocessor-scaler.pkl', 'wb') as file:\n",
    "    pickle.dump(obj=preprocessor, file=file)\n",
    "\n",
    "with open('../copd_models/preprocessor-label.pkl', 'wb') as file:\n",
    "    pickle.dump(obj=label_encoder, file=file)"
   ]
  },
  {
   "cell_type": "code",
   "execution_count": 15,
   "id": "2f2b4cbd",
   "metadata": {},
   "outputs": [],
   "source": [
    "# Saving the train-test dataset\n",
    "train_dataset = np.c_[X_train_preprocessed, np.array(y_train)]\n",
    "test_dataset = np.c_[X_test_preprocessed, np.array(y_test)]\n",
    "\n",
    "with open('../data_transformation/train.npy', 'wb') as file:\n",
    "    np.save(arr=train_dataset, file=file)\n",
    "\n",
    "with open('../data_transformation/test.npy', 'wb') as file:\n",
    "    np.save(arr=test_dataset, file=file)"
   ]
  }
 ],
 "metadata": {
  "kernelspec": {
   "display_name": "copdml",
   "language": "python",
   "name": "python3"
  },
  "language_info": {
   "codemirror_mode": {
    "name": "ipython",
    "version": 3
   },
   "file_extension": ".py",
   "mimetype": "text/x-python",
   "name": "python",
   "nbconvert_exporter": "python",
   "pygments_lexer": "ipython3",
   "version": "3.12.7"
  }
 },
 "nbformat": 4,
 "nbformat_minor": 5
}
